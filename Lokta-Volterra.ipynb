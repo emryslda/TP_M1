{
 "cells": [
  {
   "cell_type": "markdown",
   "id": "9e1dfd05",
   "metadata": {},
   "source": [
    "<h3>Les équations:<h3>\n",
    "\n",
    "$\\frac{\\delta L}{dt}=aL-bLR $ \n",
    "***\n",
    "$\\frac{\\delta R}{dt}=cLR-eR$"
   ]
  },
  {
   "cell_type": "markdown",
   "id": "0079c721",
   "metadata": {},
   "source": [
    "<h3>import libraries<h3>"
   ]
  },
  {
   "cell_type": "code",
   "execution_count": null,
   "id": "1e5d322c",
   "metadata": {},
   "outputs": [],
   "source": [
    "import numpy as np\n",
    "import matplotlib.pyplot as plt"
   ]
  },
  {
   "cell_type": "markdown",
   "id": "fba01605",
   "metadata": {},
   "source": [
    "<h3>initialisation des variables<h3>"
   ]
  },
  {
   "cell_type": "code",
   "execution_count": null,
   "id": "b9453326",
   "metadata": {},
   "outputs": [],
   "source": [
    "#initialisation des variables\n",
    "L0 = 5000                       #nombre de lapins au temps initial\n",
    "R0 = 100                        #nombre de renards au temps initial\n",
    "a = 2                           #taux de croissance\n",
    "b = 0.001                       #taux de capture des lapins par renard\n",
    "c = 0.002                       #taux de reproduction des renards par lapin capturé\n",
    "e = 10                          #taux de mortalité des renards. \n",
    "t0 = 0                          #temps initial\n",
    "tf = 20                         #temps final\n",
    "dt=0.002\n",
    "t = np.arange(t0,tf,dt) "
   ]
  },
  {
   "cell_type": "markdown",
   "id": "bcab1108",
   "metadata": {},
   "source": [
    "<h2>DEFINITION DU MODEL LOKTA-VOLTERRA<h2>"
   ]
  },
  {
   "cell_type": "code",
   "execution_count": null,
   "id": "6d4ea4c4",
   "metadata": {},
   "outputs": [],
   "source": [
    "def model(y0,t,a,b,c,e):\n",
    "    L,R=y0\n",
    "    dLdt=a*L-b*L*R\n",
    "    dRdt=c*L*R-e*R\n",
    "    return dLdt,dRdt #return les deux équations"
   ]
  },
  {
   "cell_type": "markdown",
   "id": "f6ccecbd",
   "metadata": {},
   "source": [
    "<h2>RESOLUTION DU MODEL AVEC ODEINT<h2>"
   ]
  },
  {
   "cell_type": "code",
   "execution_count": null,
   "id": "29d4af77",
   "metadata": {},
   "outputs": [],
   "source": [
    "from scipy.integrate import odeint # import odeint\n",
    "y0=[L0,R0]   # conditions initiales \n",
    "dsdt = odeint(model,y0,t,args=(a,b,c,e)) # odeint(model,initial condition,time vector,parameters)"
   ]
  },
  {
   "cell_type": "markdown",
   "id": "7681bf09",
   "metadata": {},
   "source": [
    "<h3>Extraction des solutions de l'équation<h3>"
   ]
  },
  {
   "cell_type": "code",
   "execution_count": null,
   "id": "96b49387",
   "metadata": {},
   "outputs": [],
   "source": [
    "L,R=dsdt[:,0],dsdt[:,1]"
   ]
  },
  {
   "cell_type": "markdown",
   "id": "ccfe4d07",
   "metadata": {},
   "source": [
    "<h3>Plot les équations<h3>"
   ]
  },
  {
   "cell_type": "code",
   "execution_count": null,
   "id": "d66d41c1",
   "metadata": {
    "scrolled": true
   },
   "outputs": [],
   "source": [
    "# Just a figure and one subplot\n",
    "f, ax = plt.subplots(1,2,figsize=(15,5))\n",
    "\n",
    "#SUBPLOT 1 \n",
    "ax[0].plot(t,L,'g-',label=r'$\\frac{\\delta L}{dt}=aL-bLR $',lw=3)\n",
    "ax[0].plot(t,R,'k-.',label=r'$\\frac{\\delta R}{dt}=cLR-eR$')\n",
    "ax[0].set_ylabel('#')\n",
    "ax[0].set_xlabel('Time')\n",
    "ax[0].legend(loc='best',fontsize=20)\n",
    "ax[0].set_title(\"Equation Lokta-Volterra\")\n",
    "\n",
    "\n",
    "#SUBPLOT 2\n",
    "ax[1].plot(L,R,'r',label=r'',lw=3,ls=\"--\")\n",
    "ax[1].set_ylabel('# Lapins')\n",
    "ax[1].set_xlabel('# Rennards')\n",
    "ax[1].set_title(\"Lapins vs Rennards\")\n",
    "plt.savefig(\"loktavolt.png\")\n",
    "plt.show()"
   ]
  },
  {
   "cell_type": "markdown",
   "id": "49d85c92",
   "metadata": {},
   "source": [
    "<img src=\"loktavolt.png\"> "
   ]
  }
 ],
 "metadata": {
  "kernelspec": {
   "display_name": "Python 3",
   "language": "python",
   "name": "python3"
  },
  "language_info": {
   "codemirror_mode": {
    "name": "ipython",
    "version": 3
   },
   "file_extension": ".py",
   "mimetype": "text/x-python",
   "name": "python",
   "nbconvert_exporter": "python",
   "pygments_lexer": "ipython3",
   "version": "3.8.8"
  }
 },
 "nbformat": 4,
 "nbformat_minor": 5
}
